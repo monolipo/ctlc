{
 "cells": [
  {
   "cell_type": "code",
   "execution_count": null,
   "metadata": {
    "collapsed": true
   },
   "outputs": [],
   "source": [
    "#Desenvolvido por Ted Leandro de Almeida @UFRN ago 2017\n",
    "#Algorito para baixar curvas de luz da missao CoRoT diretamente da Fonte\n",
    "#idoc-corot.ias.u-psud.fr. Se utilizar esta ferramenta, em alguma publicacao.\n",
    "#citar Leandro de Almeida, Universidade Federal do Rio Grande do Norte - DFTE 2017\n",
    "#O algoritmo eh bem simples e pode ser modificado como desejar na parte de\n",
    "#plotagem das curvas e simples analise.\n",
    "\n",
    "#Foi necessario criar uma biblioteca com os identificadores das observacoes\n",
    "#que precisam estar na mesma pasta que o CTLC chamada Faint_data.py com\n",
    "#aproximadamente 20 Mb."
   ]
  },
  {
   "cell_type": "code",
   "execution_count": null,
   "metadata": {
    "collapsed": true
   },
   "outputs": [],
   "source": [
    "import TEDTools as ted\n",
    "import numpy as np\n",
    "import matplotlib.pyplot as plt\n",
    "from astropy.io import fits\n",
    "from astropy.stats import LombScargle"
   ]
  },
  {
   "cell_type": "code",
   "execution_count": null,
   "metadata": {},
   "outputs": [],
   "source": [
    "#=##############################################################################\n",
    "ID = 100569913\n",
    "path = \"TEMP/\"+str(ID)+\"/\"\n",
    "ted.get_star(ID,path)\n",
    "arquivo = path+np.str(ID)+\".fits\"\n",
    "#Os arquivos .fits se encontram na pasta path que vc escolher. Bom trabalho.\n",
    "#=##############################################################################"
   ]
  },
  {
   "cell_type": "code",
   "execution_count": null,
   "metadata": {
    "collapsed": true
   },
   "outputs": [],
   "source": [
    "fitsFile = fits.open(arquivo)\n",
    "hdu_data = fitsFile[1].data\n",
    "# Aqui, vc escolhe o tempo que quer e qual o fluxo (WHITE, GREEN, BLUE e RED)\n",
    "time = hdu_data[\"DATETT\"]\n",
    "flux = hdu_data[\"WHITEFLUX\"]\n",
    "status = hdu_data[\"STATUS\"]"
   ]
  },
  {
   "cell_type": "code",
   "execution_count": null,
   "metadata": {
    "collapsed": true
   },
   "outputs": [],
   "source": [
    "#Selecionar a data sem flag ou com (se quiser)\n",
    "index = np.where(status == 0)[0]\n",
    "time = time[index]\n",
    "flux = flux[index]\n",
    "\n",
    "#normalizacao. (pode ajustar o tempo para JD se quiser)\n",
    "mediaF = np.nanmedian(flux)\n",
    "flux = flux/mediaF\n",
    "time = time - min(time)\n",
    "#Neste ponto, ja podes salvar o time e flux em um arquivo separado para\n",
    "#futura analise. Aqui, o codigo ja fez o seu papel. O resto eh com vc."
   ]
  },
  {
   "cell_type": "code",
   "execution_count": null,
   "metadata": {
    "collapsed": true
   },
   "outputs": [],
   "source": [
    "#plotagem\n",
    "plt.plot(time,flux,\"r.\")\n",
    "plt.title(\"corot \"+np.str(ID))\n",
    "plt.ylabel(\"WHITEFLUX\")\n",
    "plt.xlabel(\"Time (Days)\")\n",
    "plt.show()"
   ]
  },
  {
   "cell_type": "code",
   "execution_count": null,
   "metadata": {
    "collapsed": true
   },
   "outputs": [],
   "source": [
    "#Um simples Lomb Scargle pra conferir\n",
    "#nao se esqueca de ajustar o range de frequencias que deseja\n",
    "frequency = np.linspace(0.02, 0.5, 10000)\n",
    "power = LombScargle(time, flux).power(frequency)\n",
    "plt.plot(1/frequency,power)\n",
    "plt.xlabel(\"Time (Days)\")\n",
    "plt.show()\n"
   ]
  },
  {
   "cell_type": "code",
   "execution_count": null,
   "metadata": {
    "collapsed": true
   },
   "outputs": [],
   "source": []
  }
 ],
 "metadata": {
  "kernelspec": {
   "display_name": "Python 3",
   "language": "python",
   "name": "python3"
  },
  "language_info": {
   "codemirror_mode": {
    "name": "ipython",
    "version": 3
   },
   "file_extension": ".py",
   "mimetype": "text/x-python",
   "name": "python",
   "nbconvert_exporter": "python",
   "pygments_lexer": "ipython3",
   "version": "3.4.0"
  }
 },
 "nbformat": 4,
 "nbformat_minor": 2
}
